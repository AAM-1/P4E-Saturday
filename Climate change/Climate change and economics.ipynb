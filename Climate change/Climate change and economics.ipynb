{
 "cells": [
  {
   "cell_type": "markdown",
   "metadata": {},
   "source": [
    "# Climate change and economics\n",
    "\n",
    "___________\n",
    "\n",
    "This is for a python workshop with economics students to assess whether economists should suggest policies to address the climate crisis, and if so what these policies might cover. \n",
    "\n",
    "\n",
    "\n",
    "__The brief__\n",
    "\n",
    "You are an economics journalist at an international media outlet. Your team have closely followed the Bank of England's recent review on how climate change might affect the financial services sector. They are also looking at how the Bank can ensure financial resilience at the UK transitions to a low carbon economy. Some groups have been critical of this approach and about economists getting involved in climate change discussion generally. You are asked to research why there might there a case for economists to prioritise work on the climate crisis.\n",
    "\n",
    "---------\n",
    "\n",
    "__TIP__: Notebook works with LaTex, so you can include any formulas you already know from course material into your presentation to go alongside your empirical work. "
   ]
  },
  {
   "cell_type": "markdown",
   "metadata": {},
   "source": [
    "# Motivation \n",
    "Discussions have been growing on the climate emergency with movements like Extinction Rebellion amplifying this issue. The UK will be hosting the UN's Climate Change Conference (COP26) in November, where the international community will be expected to reflect on the state of the environment. This is an ongoing area of discussion for economists and is often seen through the lens of a global market failure.  \n",
    "\n",
    "__The Stern Review__\n",
    "\n",
    "In 2007 the Stern Review, authored by economist Nicholas Stern (LSE), determined that 'climate change is the greatest and widest-ranging market failure ever seen, presenting a unique challenge for economics'. The Stern Review estimated that the overall costs of climate change if no preventative action were taken would be equivalent to losing at least 5% of global gross domestic product (GDP) each year, now and forever. When considering a wider range of risks and impacts, these costs could rise to 20% of GDP or more. While it was not the first report on the economics of climate change it is the most popular and widely known. \n",
    "\n",
    "\n",
    "__Discount rates__\n",
    "\n",
    "A hallmark of the Review was the use of particular discount rates, and has continued to be a topic of great debate. \n",
    "\n",
    "The Stern Review argued that standard treatments of discounting were valuable for analysing marginal projects, but inappropriate for the non-marginal impacts important for many aspects of climate change. Cameron Hepburn argued that the relevant discount rate for climate change decisions should reflect the risk of “societal collapse” (for example, an entire region or country succumbing to rising sea levels) and, on this basis, should indeed be smaller than the current Treasury rate of 1.5% and possibly 0% to a first approximation.\n",
    "\n",
    "William Nordhaus wrote that the Stern Review should be viewed as a political document, rather than an academic study. Claiming, like most government reports it was published without an appraisal of methods and assumptions by independent outside experts.\n",
    "\n",
    "\n",
    "\n",
    "## Related literature \n",
    "For the purposes of this exercise, students should only skim one or two of these papers to inform their analysis and presentations. You are also welcome to use theory and knowledge from your own studies. \n",
    "\n",
    "* Burke, Hsiang, and Miguel (2015) Global non-linear effect of temperature on economic production. Available [here.](http://web.stanford.edu/~mburke/climate/BurkeHsiangMiguel2015.pdf)\n",
    "\n",
    "* Jung, C., van Huizen, J., and Scott, M. (2017) The Bank’s response to climate change. Quarterly Bulletin 2017 Q2. Bank of England. Available [here.](https://www.bankofengland.co.uk/-/media/boe/files/quarterly-bulletin/2017/the-banks-response-to-climate-change.pdf?la=en&hash=7DF676C781E5FAEE994C2A210A6B9EEE44879387)\n",
    "\n",
    "* Nordhaus, W. (2007) The Stern Review on the Economics of Climate Change. Available [here.](http://www.econ.yale.edu/~nordhaus/homepage/homepage/stern_050307.pdf)\n",
    "\n",
    "* Stern, N (2018) Public economics as if time matters: Climate change and the dynamics of policy. Journal of Public Economics. Vol 162, p.4-17. Available [here.](https://www.sciencedirect.com/science/article/abs/pii/S004727271830046X)\n",
    "\n",
    "* Stern, N (2018) The economic reasons to act on climate change, and to act immediately. Grantham Institute. Available [here.](http://www.lse.ac.uk/GranthamInstitute/publication/the-economic-reasons-to-act-on-climate-change-and-to-act-immediately/) \n",
    "\n",
    "* Stiglitz, J.E., Stern, N., (2017). Report of the High-level Commission on Carbon Pricing, Carbon Pricing Leadership Coalition. Available [here.](https://www.carbonpricingleadership.org/report-of-the-highlevel-commission-on-carbon-prices/)\n",
    "\n",
    "* Treasury Committee (2008) Climate change and the Stern Review: the implications for Treasury policy. HC 231 - I. Available [here.](https://publications.parliament.uk/pa/cm200708/cmselect/cmtreasy/231/231.pdf)\n"
   ]
  },
  {
   "cell_type": "markdown",
   "metadata": {},
   "source": [
    "# How to approach the question \n",
    "\n",
    "Begin with thinking about your economics knowledge: \n",
    "* Is there evidence of a market failure here, that justifies government intervention? \n",
    "* Why is this a problem on a global scale? \n",
    "* Why is it difficult to determine whether climate change is 'bad' for the economy/ financial integrity? \n",
    "* What next? \n"
   ]
  },
  {
   "cell_type": "markdown",
   "metadata": {},
   "source": [
    "# Import relevant packages\n",
    "\n",
    "Think about what you might want to do, and what packages you might need for this."
   ]
  },
  {
   "cell_type": "markdown",
   "metadata": {},
   "source": [
    "# Import data\n",
    "\n",
    "This will be a more discursive task. There is no correct answer and there will be a few datasets you'll be using to get an idea of what the issue is and why this might be an issue for economists. \n",
    "\n",
    "* OECD data on air pollution exposure by country is available <a href=\"https://data.oecd.org/air/air-pollution-exposure.htm\">here</a> \n",
    "   * The data provides: Microgram per cubic metre and % of population \n",
    "\n",
    "* Data on effective carbon rates are available from the OECD [here.](https://www.oecd.org/tax/effective-carbon-rates-2018-9789264305304-en.htm)\n",
    "\n",
    "* World bank data on carbon taxes - this is very messy data but is available on the [website.](https://carbonpricingdashboard.worldbank.org/map_data)\n",
    "\n",
    "* Data on the economic impact of climate change is available <a href=\"https://web.stanford.edu/~mburke/climate/data.html\">here</a>, cite: Burke, Hsiang, and Miguel (2015)\n",
    "\n",
    "* Website used for shapefiles <a href=\"https://www.naturalearthdata.com/downloads/110m-cultural-vectors/\">here</a> then use 'Download Countries version 4.1.0'"
   ]
  },
  {
   "cell_type": "markdown",
   "metadata": {},
   "source": [
    "# Inspect the data \n",
    "\n",
    "Once you import the data, you want to look at what the data is telling us and how we can use it.\n",
    "\n",
    "(Hint: begin with the air pollution data to start with.)\n",
    "\n",
    "Need to get to know the data you're using before doing any analysis. \n",
    "\n",
    "Note down some of the interesting stats from here - this will be helpful when giving your presentation. \n",
    "\n",
    "### Try to see how the UK compares to US, China and the OECD average \n",
    "__Q__: Is this an example of market failure - who does air pollution effect on a global scale?\n",
    "\n",
    "You might find this example of creating a multiple line plot helpful. \n",
    "Example templates: https://www.kaggle.com/andyxie/matplotlib-plot-multiple-lines\n"
   ]
  },
  {
   "cell_type": "markdown",
   "metadata": {},
   "source": [
    "# Analysis\n",
    "How has this changed over the years? \n",
    "* Can you create the growth rate of change of air pollution? \n",
    "* Who pays the most in carbon taxes? "
   ]
  },
  {
   "cell_type": "markdown",
   "metadata": {},
   "source": [
    "# Extension: Create cloropleth map\n",
    "\n",
    "It's easier to visualise the scale of the problem, this is where we will use the shapefiles we downloaded earlier.  \n",
    "\n",
    "A Cholorpheth map is a type of 'heat map'. You an read more to read on formatting maps: http://geopandas.org/mapping.html \n",
    "\n",
    "In order to create a cloropleth map, you will need to install the package geopandas. \n",
    "It might be best to ask your coach to help you with the installation process. \n",
    "\n",
    "#### A word of caution when using geopandas\n",
    "\n",
    "You need to make sure you carefully follow the installation documentation, which is available to read <a href=\"https://geopandas.readthedocs.io/en/latest/install.html\">here</a>  \n",
    "\n",
    "When using conda, make sure you use this new environment 'geo_env' so that you don't have any conflicts when using geopandas. \n",
    "\n",
    "\n",
    "### Using the Stanford dataset \n",
    "* You need to identify a key in order to merge the shapefile with the correct countries \n",
    "* You also need calculate the change in GDP over time, before mapping. \n",
    "\n",
    "The authors state: \n",
    "Projected effect of temperature changes on regional economies.\n",
    "* a, b, Change in GDP per capita (RCP8.5, SSP5) relative to projection using constant 1980–2010 average temperatures. a, Country-level estimates in 2100.\n",
    "You need to take the average temp for 1980-2010. Then calculate the GDP change in 20xx. \n",
    "\n",
    "\n",
    "It should end up looking something like this: \n",
    "<img src=\"GDPchangeclimate.png\" alt=\"london, alcohol prices\" width=\"400\"/>\n"
   ]
  }
 ],
 "metadata": {
  "kernelspec": {
   "display_name": "Python 3",
   "language": "python",
   "name": "python3"
  },
  "language_info": {
   "codemirror_mode": {
    "name": "ipython",
    "version": 3
   },
   "file_extension": ".py",
   "mimetype": "text/x-python",
   "name": "python",
   "nbconvert_exporter": "python",
   "pygments_lexer": "ipython3",
   "version": "3.7.1"
  }
 },
 "nbformat": 4,
 "nbformat_minor": 2
}
