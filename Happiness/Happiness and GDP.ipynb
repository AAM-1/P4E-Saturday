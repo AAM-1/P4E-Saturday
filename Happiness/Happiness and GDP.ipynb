{
 "cells": [
  {
   "cell_type": "markdown",
   "metadata": {},
   "source": [
    "# Happiness and GDP for economics\n",
    "\n",
    "––––––\n",
    "\n",
    "This is for a python workshop with economics students to assess whether it is useful to consider happiness and GDP in public policy. \n",
    "\n",
    "__The brief__\n",
    "\n",
    "You are an economist at HM Treasury. Your team have recently heard the New Zealand government have extended their dashboard on wellbeing indicators. You are asked to look at what evidence there is to consider happiness and other wellbeing indicators when measuring the economy. What relevance, if any, does this have to the UK?"
   ]
  },
  {
   "cell_type": "markdown",
   "metadata": {},
   "source": [
    "# Motivation \n",
    "\n",
    "In 2019 the New Zealand government published their new 'Wellbeing Budget. This was an attempt to include a broad set of indicators such as mental health, child poverty and domestic violence to have a forward looking approach to the environment, the strength of communities and the performance of the economy. \n",
    "\n",
    "\n",
    "#### The Stiglitz Commission \n",
    "The 2009 Stiglitz Commission stated that “Research has shown that it is possible to collect meaningful and reliable data on subjective as well as objective well-being. Subjective well-being encompasses different aspects (cognitive evaluations of one’s life, happiness, satisfaction, positive emotions such as joy and pride, and negative emotions such as pain and worry): each of them should be measured separately to derive a more comprehensive appreciation of people’s lives... [SWB] should be included in larger-scale surveys undertaken by official statistical offices”.\n",
    "\n",
    "#### Subjective Wellbeing \n",
    "Subjective Wellbeing is measured by simply asking people about their happiness. SWB is beginning to be used to monitor progress and to inform policy in terms of depression rates and in the provision of cognitive behavioural therapy. Policy appraisal using SWB has interested academics for decades and is increasinly concerning policymakers.\n",
    "\n",
    "\n",
    "## Related Literature \n",
    "For the purposes of this session only skim one or two of these papers to inform your project.\n",
    "\n",
    "Bellet, c. et al (2019) Does Employee Happiness Have an Impact on Productivity? Available [here.]('http://cep.lse.ac.uk/pubs/download/dp1655.pdf')\n",
    "\n",
    "Frijters, P and Layard, R (2018) Direct wellbeing measurement and policy appraisal: a discussion paper [here.]('http://cep.lse.ac.uk/textonly/_new/staff/layard/pdf/0461_DirectWellbeingMeasurement.pdf') \n",
    "\n",
    "Gallup (2019) World Happiness Report 2019). Available [here.]('https://worldhappiness.report/')\n",
    "\n",
    "Layard, R (2016) Wellbeing measurement and cost-effectiveness analysis. Available [here.]('http://cep.lse.ac.uk/textonly/_new/staff/layard/pdf/0381-06-07-16.pdf')\n",
    "\n",
    "New Zealand Treasury (2019) The Wellbeing Budget 2019. Available [here.]('https://treasury.govt.nz/sites/default/files/2019-05/b19-wellbeing-budget.pdf')\n"
   ]
  },
  {
   "cell_type": "markdown",
   "metadata": {},
   "source": [
    "# Data sources \n",
    "* Happiness report data (see files in repo) "
   ]
  },
  {
   "cell_type": "markdown",
   "metadata": {},
   "source": [
    "# Import packages \n",
    "\n",
    "\n",
    "# Inspect the data \n",
    "* Need to get to know the data you're using before doing any analysis.\n",
    "* can you find some interesting stats from here to feedback during their presentations?\n",
    "\n",
    "Tip: It might be useful to first see what they data looks like generally before manipulating it. \n"
   ]
  },
  {
   "cell_type": "markdown",
   "metadata": {},
   "source": [
    "# Analysis \n",
    "At this point there should be a clearer exam question.\n",
    "\n",
    "1. Does there seem to be a relationship between happiness/wellbeing indicators and GDP?\n",
    "2. What does this mean for the UK and why does it matter?"
   ]
  },
  {
   "cell_type": "markdown",
   "metadata": {},
   "source": [
    "# Data visualisation\n",
    "* What it the best format to display the data? \n",
    "* What the the key stories? \n",
    "* which variables are most striking - does it push the case for a wellbeing indicator? "
   ]
  }
 ],
 "metadata": {
  "kernelspec": {
   "display_name": "Python 3",
   "language": "python",
   "name": "python3"
  },
  "language_info": {
   "codemirror_mode": {
    "name": "ipython",
    "version": 3
   },
   "file_extension": ".py",
   "mimetype": "text/x-python",
   "name": "python",
   "nbconvert_exporter": "python",
   "pygments_lexer": "ipython3",
   "version": "3.7.1"
  }
 },
 "nbformat": 4,
 "nbformat_minor": 2
}
