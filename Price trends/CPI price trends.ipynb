{
 "cells": [
  {
   "cell_type": "markdown",
   "metadata": {},
   "source": [
    "# CPI price trends \n",
    "\n",
    "This is code for a python workshop with LSE undergraduate economics students to explore price ridigity and price trends using UK CPI data.\n",
    "\n",
    "__The brief__\n",
    "\n",
    "You are an economics consultant and have been approached by an ecommerce business who are looking to expand the products available on their platform. They would like you to provide an analysis into some popular items for UK consumers and their corresponding price trends. As an online site they might also want to know how this could inform the company's own pricing decisions. "
   ]
  },
  {
   "cell_type": "markdown",
   "metadata": {},
   "source": [
    "# Motivation \n",
    "\n",
    "The source of price rigidity is a foundational question in macroeconomics, and one which improvments in data is consistently shifting our understanding of. This data has been provided by Richard Davies (LSE), you can read more about how the dataset was constructed and the corresponding draft paper on his website [here.](https://richarddavies.io/research/the-uk-consumer-basket) \n",
    "\n",
    "<img src=\"london, alcohol prices.png\" alt=\"london, alcohol prices\" width=\"400\"/>\n",
    "\n",
    "\n",
    "### The data \n",
    "The price data come from monthly records of prices known as ‘price quotes’ that are recorded by the Office for National Statistics (ONS). The price quotes files contain information on the item sold, its location, the shop and shop type (the size of the establishment) it is sold in, and whether it was offered at a sale or regular price. In the past year the ONS have also begun collecting prices from online retailers. The final raw data has over 32m observations. The dataset you will be using is not the original ONS price quotes data** but a smaller, cleaner sample with fewer basket items are available to download from [here.](https://www.dropbox.com/s/w87w1o5dy0et2o0/everpresent10items%20.csv?dl=0) \n",
    "\n",
    "** ONS datasets from 1996 - present are available to explore [here.](https://www.ons.gov.uk/economy/inflationandpriceindices/datasets/consumerpriceindicescpiandretailpricesindexrpiitemindicesandpricequotes)\n",
    "\n",
    "\n",
    "### Related literature \n",
    "For the purposes of the weekend, we suggest only skimming one or two of the papers. Given you are time constrained, you should not spend a lot of your time on this. \n",
    "\n",
    "Klenow P and Malin B (2010), “Microeconomic Evidence on Price Setting”, prepared for the Handbook of Monetary Economics. Available [here](https://www.nber.org/papers/w15826)\n",
    "\n",
    "Kehoe, Patrick and Virgiliu Midrigan (2014) “Prices are Sticky After All,\" Journal of Monetary Economics. Available [here](https://www.sciencedirect.com/science/article/pii/S0304393214001809)\n",
    "\n",
    "Nakamura, Emi and Jón Steinsson (2013), “Lost in Transit: Product Replacement Bias and Pricing to Market”, American Economic Review 2012, 102(7): 3277–3316. Available [here](https://www.aeaweb.org/articles?id=10.1257/aer.102.7.3277)\n"
   ]
  },
  {
   "cell_type": "markdown",
   "metadata": {},
   "source": [
    "# Approaching the question \n",
    "Before you begin, set out why do economists care abour consumer prices? \n",
    "* Why do consumer prices matter for economists and how are they measured? \n",
    "* How do prices vary by item and region? \n",
    "* Can you calculate the max and min prices - are some prices sticky? \n",
    "* What information can be get from a small number of items? \n",
    "* Have some item prices increased faster than CPI inflation? Why might that be? "
   ]
  },
  {
   "cell_type": "markdown",
   "metadata": {},
   "source": [
    "# Import relevant packages\n",
    "Students should be familiar with most of these packages, you will use the usual pandas, numpy and mapplotlib - no additions needed (seaborn is optional to create more customised charts).\n",
    "\n",
    "# Import data\n",
    "This will be a more discursive task. There is no correct answer. \n",
    "\n",
    "__TIP__ You should however explain what the CPI basket is and understand how basket items are selected and deselected. \n",
    "\n",
    "# Inspect the data\n",
    "Once you import the data, you want to look at what the data is telling us and how we can use it.\n",
    "\n",
    "Need to get to know the data you're using before doing any analysis.\n",
    "\n",
    "It is also good practise to check the data is clean so you can iron out issues before getting stuck part-way through. \n",
    "\n",
    "__TIP__: Note down some of the interesting stats from here - this will be helpful when giving your presentation.\n",
    "\n",
    "\n",
    "### (check the data is clean)\n",
    "Next, we check that there are no zero prices, and some other tests for problematic data. \n",
    "\n",
    "Since the data is pre-cleaned, the results to this should all be negative, but it is good practise to assess your datasets! \n",
    "\n",
    "### Produce an initial chart to understand what the data currently looks like.\n",
    "Do this before you begin any additional analysis \n",
    "\n",
    "\n",
    "# Creating percentiles\n",
    "We can create percentiles to have a broader look at the price trends of our items.\n",
    "\n",
    "We want to create percentiles p10 all the way to p90 for each of our ten items.\n",
    "\n",
    "* Begin just by looking at the max, min and mea prices for chocolate\n",
    "* Then move into creating the p10 to p90 for chocolate \n",
    "Note: be careful here, it creating the aggregate stats and the percentiles are slightly different. \n",
    "\n",
    "Q: What does this tell us about chocolate prices over time? What do you notice about the gap between the p90 and p10 over time?\n",
    "\n",
    "### Swathe Charts\n",
    "This is a neater way to display the data. Again using it for chocolate.\n"
   ]
  },
  {
   "cell_type": "markdown",
   "metadata": {},
   "source": [
    "# Extension \n",
    "\n",
    "* You can repeat this for the other 9 items in the our original dataframe.\n",
    "\n",
    "* You could also merge in the monthly CPI inflation rate, and calculate the inflation rate for a specific item. \n",
    "    * __TIP__: The dates for the monthly data must match our simplified 'dates' 1-280. you should create a column in the inflation rate dataframe and then merge. "
   ]
  },
  {
   "cell_type": "markdown",
   "metadata": {},
   "source": [
    "# Extended extension \n",
    "\n",
    "If you have time, you can go back and download the csv sample dataset for all basket items. \n",
    "These are ~172 items which have been present throughout 1996 - 2019. You can do a similar exercise for a select number of items, or create your own consumer 'basket'."
   ]
  }
 ],
 "metadata": {
  "kernelspec": {
   "display_name": "Python 3",
   "language": "python",
   "name": "python3"
  },
  "language_info": {
   "codemirror_mode": {
    "name": "ipython",
    "version": 3
   },
   "file_extension": ".py",
   "mimetype": "text/x-python",
   "name": "python",
   "nbconvert_exporter": "python",
   "pygments_lexer": "ipython3",
   "version": "3.7.1"
  }
 },
 "nbformat": 4,
 "nbformat_minor": 2
}
